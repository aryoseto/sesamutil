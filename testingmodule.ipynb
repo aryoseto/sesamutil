{
 "cells": [
  {
   "cell_type": "code",
   "execution_count": 1,
   "metadata": {},
   "outputs": [],
   "source": [
    "import sesamutil\n",
    "import pandas as pd"
   ]
  },
  {
   "cell_type": "code",
   "execution_count": 2,
   "metadata": {},
   "outputs": [],
   "source": [
    "fatiguedata = sesamutil.getFatRes('SABFTG_UNSTIFFENED.LIS')\n",
    "\n",
    "#Giving column name \n",
    "dfObj = pd.DataFrame(fatiguedata, columns = ['jointno', 'braceno', 'chordno', 'side', 'hotspot', 'scfax', 'scfipb','scfopb', 'scfaxc', 'scfaxs', 'sncurve', 'scfrule', 'alpha', 'theta', 'symmet', 'bracedia', 'bracethk', 'chorddia', 'chordthk', 'jotype',  'lencho', 'fixcho', 'gap', 'thifac', 'qr', 'cycles', 'damage', 'life' ]) "
   ]
  },
  {
   "cell_type": "code",
   "execution_count": 3,
   "metadata": {},
   "outputs": [
    {
     "output_type": "stream",
     "name": "stdout",
     "text": "jointno braceno chordno       side hotspot  scfax scfipb scfopb scfaxc  \\\n0   JT101  BM1014   BM102  CHORD-SID       7  2.326  1.500  2.317  2.326   \n1   JT101  BM1014   BM102  BRACE-SID       7  3.090  2.050  3.282  3.090   \n2   JT101  BM1070   BM102  CHORD-SID       7  2.497  1.500  2.868  2.497   \n3   JT101  BM1070   BM102  BRACE-SID       7  2.149  2.871  2.636  2.149   \n4   JT101  BM1101   BM102  CHORD-SID       7  1.629  1.500  2.012  1.629   \n\n  scfaxs  ... chordthk jotype    lencho fixcho       gap thifac     qr  \\\n0  2.326  ...    0.120      K  2.87E+01  1.000  7.71E-02  1.655  1.000   \n1  3.090  ...    0.120      K  2.87E+01  1.000  7.71E-02  1.216  1.000   \n2  2.497  ...    0.120      K  2.87E+01  1.000  1.23E-01  1.655  1.000   \n3  2.149  ...    0.120      K  2.87E+01  1.000  1.23E-01  1.420  1.000   \n4  1.629  ...    0.120      K  2.87E+01  1.000  7.71E-02  1.655  1.000   \n\n     cycles    damage      life  \n0  1.58E+09  4.73E+00  4.97E+01  \n1  1.58E+09  4.47E+00  5.26E+01  \n2  1.63E+09  4.28E+00  5.50E+01  \n3  1.63E+09  2.04E+00  1.15E+02  \n4  1.54E+09  3.74E+00  6.29E+01  \n\n[5 rows x 28 columns]\n"
    }
   ],
   "source": [
    "#Check some of the top row\n",
    "print(dfObj.head())"
   ]
  },
  {
   "cell_type": "code",
   "execution_count": 4,
   "metadata": {},
   "outputs": [
    {
     "output_type": "stream",
     "name": "stdout",
     "text": "jointno braceno chordno       side hotspot  scfax scfipb scfopb  scfaxc  \\\n1431  JT9024  BM1403  BM9024  CHORD-SID       1  2.486  1.516  4.671   2.486   \n1432  JT9024  BM1404  BM9024  BRACE-SID      13  2.951  2.402  4.897   2.951   \n1433  JT9024  BM1404  BM9024  CHORD-SID      13  3.755  1.984  5.833   3.755   \n1434  JT9059  BM1401  BM9059  BRACE-SID      13  3.686  2.383  4.384   5.358   \n1435  JT9059  BM1401  BM9059  CHORD-SID      13  4.484  2.677  7.163  12.048   \n\n     scfaxs  ... chordthk jotype    lencho fixcho       gap thifac     qr  \\\n1431  2.486  ...    0.050      K  2.84E+01  1.000  7.70E-02  1.330  1.000   \n1432  2.951  ...    0.050      K  2.84E+01  1.000  7.70E-02  1.118  1.000   \n1433  3.755  ...    0.050      K  2.84E+01  1.000  7.70E-02  1.330  1.000   \n1434  3.686  ...    0.040     YT  1.63E+01  1.000  0.00E+00  1.170  1.000   \n1435  4.484  ...    0.040     YT  1.63E+01  1.000  0.00E+00  1.257  1.000   \n\n        cycles    damage      life  \n1431  1.78E+09  2.81E-05  8.37E+06  \n1432  1.61E+09  1.41E-03  1.66E+05  \n1433  1.61E+09  8.24E-03  2.85E+04  \n1434  1.59E+09  1.80E-04  1.31E+06  \n1435  1.59E+09  2.51E-03  9.37E+04  \n\n[5 rows x 28 columns]\n"
    }
   ],
   "source": [
    "#Check some of the bottom row\n",
    "print(dfObj.tail())"
   ]
  },
  {
   "cell_type": "code",
   "execution_count": 5,
   "metadata": {},
   "outputs": [
    {
     "output_type": "execute_result",
     "data": {
      "text/plain": "(1436, 28)"
     },
     "metadata": {},
     "execution_count": 5
    }
   ],
   "source": [
    "#Check shape of the dataframe\n",
    "dfObj.shape"
   ]
  },
  {
   "cell_type": "code",
   "execution_count": 6,
   "metadata": {},
   "outputs": [
    {
     "output_type": "execute_result",
     "data": {
      "text/plain": "RangeIndex(start=0, stop=1436, step=1)"
     },
     "metadata": {},
     "execution_count": 6
    }
   ],
   "source": [
    "#Check index\n",
    "dfObj.index"
   ]
  },
  {
   "cell_type": "code",
   "execution_count": 7,
   "metadata": {},
   "outputs": [
    {
     "output_type": "execute_result",
     "data": {
      "text/plain": "jointno     object\nbraceno     object\nchordno     object\nside        object\nhotspot     object\nscfax       object\nscfipb      object\nscfopb      object\nscfaxc      object\nscfaxs      object\nsncurve     object\nscfrule     object\nalpha       object\ntheta       object\nsymmet      object\nbracedia    object\nbracethk    object\nchorddia    object\nchordthk    object\njotype      object\nlencho      object\nfixcho      object\ngap         object\nthifac      object\nqr          object\ncycles      object\ndamage      object\nlife        object\ndtype: object"
     },
     "metadata": {},
     "execution_count": 7
    }
   ],
   "source": [
    "#Get the data type for each column\n",
    "dfObj.dtypes"
   ]
  },
  {
   "cell_type": "code",
   "execution_count": 8,
   "metadata": {},
   "outputs": [],
   "source": [
    "#Change data type of a single column\n",
    "dfObj['life'] = dfObj['life'].astype('float64')"
   ]
  },
  {
   "cell_type": "code",
   "execution_count": 9,
   "metadata": {},
   "outputs": [
    {
     "output_type": "stream",
     "name": "stdout",
     "text": "<class 'pandas.core.frame.DataFrame'>\nRangeIndex: 1436 entries, 0 to 1435\nData columns (total 28 columns):\njointno     1436 non-null object\nbraceno     1436 non-null object\nchordno     1436 non-null object\nside        1436 non-null object\nhotspot     1436 non-null object\nscfax       1436 non-null object\nscfipb      1436 non-null object\nscfopb      1436 non-null object\nscfaxc      1436 non-null object\nscfaxs      1436 non-null object\nsncurve     1436 non-null object\nscfrule     1436 non-null object\nalpha       1436 non-null object\ntheta       1436 non-null object\nsymmet      1436 non-null object\nbracedia    1436 non-null object\nbracethk    1436 non-null object\nchorddia    1436 non-null object\nchordthk    1436 non-null object\njotype      1436 non-null object\nlencho      1436 non-null object\nfixcho      1436 non-null object\ngap         1436 non-null object\nthifac      1436 non-null object\nqr          1436 non-null object\ncycles      1436 non-null object\ndamage      1436 non-null object\nlife        1436 non-null float64\ndtypes: float64(1), object(27)\nmemory usage: 314.2+ KB\n"
    }
   ],
   "source": [
    "# Get info of the dataframe object for each column\n",
    "dfObj.info()"
   ]
  },
  {
   "cell_type": "code",
   "execution_count": 10,
   "metadata": {},
   "outputs": [
    {
     "output_type": "stream",
     "name": "stdout",
     "text": "<bound method NDFrame.head of      jointno braceno chordno       side hotspot  scfax scfipb scfopb  scfaxc  \\\n0      JT101  BM1014   BM102  CHORD-SID       7  2.326  1.500  2.317   2.326   \n1      JT101  BM1014   BM102  BRACE-SID       7  3.090  2.050  3.282   3.090   \n2      JT101  BM1070   BM102  CHORD-SID       7  2.497  1.500  2.868   2.497   \n3      JT101  BM1070   BM102  BRACE-SID       7  2.149  2.871  2.636   2.149   \n4      JT101  BM1101   BM102  CHORD-SID       7  1.629  1.500  2.012   1.629   \n...      ...     ...     ...        ...     ...    ...    ...    ...     ...   \n1431  JT9024  BM1403  BM9024  CHORD-SID       1  2.486  1.516  4.671   2.486   \n1432  JT9024  BM1404  BM9024  BRACE-SID      13  2.951  2.402  4.897   2.951   \n1433  JT9024  BM1404  BM9024  CHORD-SID      13  3.755  1.984  5.833   3.755   \n1434  JT9059  BM1401  BM9059  BRACE-SID      13  3.686  2.383  4.384   5.358   \n1435  JT9059  BM1401  BM9059  CHORD-SID      13  4.484  2.677  7.163  12.048   \n\n     scfaxs  ... chordthk jotype    lencho fixcho       gap thifac     qr  \\\n0     2.326  ...    0.120      K  2.87E+01  1.000  7.71E-02  1.655  1.000   \n1     3.090  ...    0.120      K  2.87E+01  1.000  7.71E-02  1.216  1.000   \n2     2.497  ...    0.120      K  2.87E+01  1.000  1.23E-01  1.655  1.000   \n3     2.149  ...    0.120      K  2.87E+01  1.000  1.23E-01  1.420  1.000   \n4     1.629  ...    0.120      K  2.87E+01  1.000  7.71E-02  1.655  1.000   \n...     ...  ...      ...    ...       ...    ...       ...    ...    ...   \n1431  2.486  ...    0.050      K  2.84E+01  1.000  7.70E-02  1.330  1.000   \n1432  2.951  ...    0.050      K  2.84E+01  1.000  7.70E-02  1.118  1.000   \n1433  3.755  ...    0.050      K  2.84E+01  1.000  7.70E-02  1.330  1.000   \n1434  3.686  ...    0.040     YT  1.63E+01  1.000  0.00E+00  1.170  1.000   \n1435  4.484  ...    0.040     YT  1.63E+01  1.000  0.00E+00  1.257  1.000   \n\n        cycles    damage       life  \n0     1.58E+09  4.73E+00       49.7  \n1     1.58E+09  4.47E+00       52.6  \n2     1.63E+09  4.28E+00       55.0  \n3     1.63E+09  2.04E+00      115.0  \n4     1.54E+09  3.74E+00       62.9  \n...        ...       ...        ...  \n1431  1.78E+09  2.81E-05  8370000.0  \n1432  1.61E+09  1.41E-03   166000.0  \n1433  1.61E+09  8.24E-03    28500.0  \n1434  1.59E+09  1.80E-04  1310000.0  \n1435  1.59E+09  2.51E-03    93700.0  \n\n[1436 rows x 28 columns]>\n"
    }
   ],
   "source": [
    "print(dfObj.head)"
   ]
  },
  {
   "cell_type": "code",
   "execution_count": 11,
   "metadata": {},
   "outputs": [],
   "source": [
    "#Convert multiple column data types\n",
    "dfObj = dfObj.astype({'hotspot': 'int64', 'scfax' : 'float64', 'scfipb' : 'float64','scfopb' : 'float64', 'scfaxc' :'float64', 'scfaxs' :'float64', 'alpha' : 'float64', 'theta' : 'float64', 'bracedia' : 'float64', 'bracethk' : 'float64', 'chorddia' : 'float64', 'chordthk' : 'float64', 'lencho' : 'float64', 'gap' : 'float64', 'cycles' : 'float64', 'damage' : 'float64', 'life' : 'float64' })"
   ]
  },
  {
   "cell_type": "code",
   "execution_count": 12,
   "metadata": {},
   "outputs": [
    {
     "output_type": "stream",
     "name": "stdout",
     "text": "jointno braceno chordno       side  hotspot  scfax  scfipb  scfopb  scfaxc  \\\n0   JT101  BM1014   BM102  CHORD-SID        7  2.326   1.500   2.317   2.326   \n1   JT101  BM1014   BM102  BRACE-SID        7  3.090   2.050   3.282   3.090   \n2   JT101  BM1070   BM102  CHORD-SID        7  2.497   1.500   2.868   2.497   \n3   JT101  BM1070   BM102  BRACE-SID        7  2.149   2.871   2.636   2.149   \n4   JT101  BM1101   BM102  CHORD-SID        7  1.629   1.500   2.012   1.629   \n\n   scfaxs  ... chordthk jotype  lencho  fixcho     gap  thifac     qr  \\\n0   2.326  ...     0.12      K    28.7   1.000  0.0771   1.655  1.000   \n1   3.090  ...     0.12      K    28.7   1.000  0.0771   1.216  1.000   \n2   2.497  ...     0.12      K    28.7   1.000  0.1230   1.655  1.000   \n3   2.149  ...     0.12      K    28.7   1.000  0.1230   1.420  1.000   \n4   1.629  ...     0.12      K    28.7   1.000  0.0771   1.655  1.000   \n\n         cycles  damage   life  \n0  1.580000e+09    4.73   49.7  \n1  1.580000e+09    4.47   52.6  \n2  1.630000e+09    4.28   55.0  \n3  1.630000e+09    2.04  115.0  \n4  1.540000e+09    3.74   62.9  \n\n[5 rows x 28 columns]\n"
    }
   ],
   "source": [
    "print(dfObj.head())"
   ]
  },
  {
   "cell_type": "code",
   "execution_count": 13,
   "metadata": {},
   "outputs": [
    {
     "output_type": "execute_result",
     "data": {
      "text/plain": "    jointno braceno chordno       side  hotspot  scfax  scfipb  scfopb  \\\n473   JT702  BM7008   BM208  BRACE-SID       13  2.413   1.974   3.137   \n\n     scfaxc  scfaxs  ... chordthk jotype  lencho  fixcho    gap  thifac  \\\n473    3.15   2.413  ...      0.1    KTT    24.4   1.000  0.101   1.170   \n\n        qr        cycles  damage  life  \n473  1.000  1.490000e+09    16.3  14.4  \n\n[1 rows x 28 columns]",
      "text/html": "<div>\n<style scoped>\n    .dataframe tbody tr th:only-of-type {\n        vertical-align: middle;\n    }\n\n    .dataframe tbody tr th {\n        vertical-align: top;\n    }\n\n    .dataframe thead th {\n        text-align: right;\n    }\n</style>\n<table border=\"1\" class=\"dataframe\">\n  <thead>\n    <tr style=\"text-align: right;\">\n      <th></th>\n      <th>jointno</th>\n      <th>braceno</th>\n      <th>chordno</th>\n      <th>side</th>\n      <th>hotspot</th>\n      <th>scfax</th>\n      <th>scfipb</th>\n      <th>scfopb</th>\n      <th>scfaxc</th>\n      <th>scfaxs</th>\n      <th>...</th>\n      <th>chordthk</th>\n      <th>jotype</th>\n      <th>lencho</th>\n      <th>fixcho</th>\n      <th>gap</th>\n      <th>thifac</th>\n      <th>qr</th>\n      <th>cycles</th>\n      <th>damage</th>\n      <th>life</th>\n    </tr>\n  </thead>\n  <tbody>\n    <tr>\n      <th>473</th>\n      <td>JT702</td>\n      <td>BM7008</td>\n      <td>BM208</td>\n      <td>BRACE-SID</td>\n      <td>13</td>\n      <td>2.413</td>\n      <td>1.974</td>\n      <td>3.137</td>\n      <td>3.15</td>\n      <td>2.413</td>\n      <td>...</td>\n      <td>0.1</td>\n      <td>KTT</td>\n      <td>24.4</td>\n      <td>1.000</td>\n      <td>0.101</td>\n      <td>1.170</td>\n      <td>1.000</td>\n      <td>1.490000e+09</td>\n      <td>16.3</td>\n      <td>14.4</td>\n    </tr>\n  </tbody>\n</table>\n<p>1 rows × 28 columns</p>\n</div>"
     },
     "metadata": {},
     "execution_count": 13
    }
   ],
   "source": [
    "#Find where the minimum fatigue life is\n",
    "dfObj[dfObj['life'] == dfObj['life'].min()]"
   ]
  },
  {
   "cell_type": "code",
   "execution_count": 16,
   "metadata": {},
   "outputs": [
    {
     "output_type": "execute_result",
     "data": {
      "text/plain": "    jointno     life  braceno       side\n620  JT1001   4070.0  BM99906  BRACE-SID\n622  JT1002   2440.0  BM99905  BRACE-SID\n624  JT1005   9070.0  BM99908  BRACE-SID\n626  JT1008   4330.0  BM99909  BRACE-SID\n629  JT1009  10700.0  BM99911  CHORD-SID\n0     JT101     49.7   BM1014  CHORD-SID\n630  JT1010   1390.0  BM99912  BRACE-SID\n632  JT1013   1120.0  BM99902  BRACE-SID\n634  JT1016   3580.0  BM99903  BRACE-SID\n14    JT102     20.8   BM1084  CHORD-SID",
      "text/html": "<div>\n<style scoped>\n    .dataframe tbody tr th:only-of-type {\n        vertical-align: middle;\n    }\n\n    .dataframe tbody tr th {\n        vertical-align: top;\n    }\n\n    .dataframe thead th {\n        text-align: right;\n    }\n</style>\n<table border=\"1\" class=\"dataframe\">\n  <thead>\n    <tr style=\"text-align: right;\">\n      <th></th>\n      <th>jointno</th>\n      <th>life</th>\n      <th>braceno</th>\n      <th>side</th>\n    </tr>\n  </thead>\n  <tbody>\n    <tr>\n      <th>620</th>\n      <td>JT1001</td>\n      <td>4070.0</td>\n      <td>BM99906</td>\n      <td>BRACE-SID</td>\n    </tr>\n    <tr>\n      <th>622</th>\n      <td>JT1002</td>\n      <td>2440.0</td>\n      <td>BM99905</td>\n      <td>BRACE-SID</td>\n    </tr>\n    <tr>\n      <th>624</th>\n      <td>JT1005</td>\n      <td>9070.0</td>\n      <td>BM99908</td>\n      <td>BRACE-SID</td>\n    </tr>\n    <tr>\n      <th>626</th>\n      <td>JT1008</td>\n      <td>4330.0</td>\n      <td>BM99909</td>\n      <td>BRACE-SID</td>\n    </tr>\n    <tr>\n      <th>629</th>\n      <td>JT1009</td>\n      <td>10700.0</td>\n      <td>BM99911</td>\n      <td>CHORD-SID</td>\n    </tr>\n    <tr>\n      <th>0</th>\n      <td>JT101</td>\n      <td>49.7</td>\n      <td>BM1014</td>\n      <td>CHORD-SID</td>\n    </tr>\n    <tr>\n      <th>630</th>\n      <td>JT1010</td>\n      <td>1390.0</td>\n      <td>BM99912</td>\n      <td>BRACE-SID</td>\n    </tr>\n    <tr>\n      <th>632</th>\n      <td>JT1013</td>\n      <td>1120.0</td>\n      <td>BM99902</td>\n      <td>BRACE-SID</td>\n    </tr>\n    <tr>\n      <th>634</th>\n      <td>JT1016</td>\n      <td>3580.0</td>\n      <td>BM99903</td>\n      <td>BRACE-SID</td>\n    </tr>\n    <tr>\n      <th>14</th>\n      <td>JT102</td>\n      <td>20.8</td>\n      <td>BM1084</td>\n      <td>CHORD-SID</td>\n    </tr>\n  </tbody>\n</table>\n</div>"
     },
     "metadata": {},
     "execution_count": 16
    }
   ],
   "source": [
    "#Find the minimum life for each joint, and shows the corresponding brace number\n",
    "dfjt_summary = dfObj[['jointno','life', 'braceno', 'side']].loc[dfObj.groupby(['jointno'])['life'].idxmin()]\n",
    "dfjt_summary.head(10)"
   ]
  },
  {
   "cell_type": "code",
   "execution_count": null,
   "metadata": {},
   "outputs": [],
   "source": []
  }
 ],
 "metadata": {
  "language_info": {
   "name": "python",
   "codemirror_mode": {
    "name": "ipython",
    "version": 3
   },
   "version": "3.7.4-final"
  },
  "orig_nbformat": 2,
  "file_extension": ".py",
  "mimetype": "text/x-python",
  "name": "python",
  "npconvert_exporter": "python",
  "pygments_lexer": "ipython3",
  "version": 3,
  "kernelspec": {
   "name": "python37464bitbaseconda0f1de396f8ec4778bb5e7de4dbbc4993",
   "display_name": "Python 3.7.4 64-bit ('base': conda)"
  }
 },
 "nbformat": 4,
 "nbformat_minor": 2
}