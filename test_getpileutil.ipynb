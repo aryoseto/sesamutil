{
 "metadata": {
  "language_info": {
   "codemirror_mode": {
    "name": "ipython",
    "version": 3
   },
   "file_extension": ".py",
   "mimetype": "text/x-python",
   "name": "python",
   "nbconvert_exporter": "python",
   "pygments_lexer": "ipython3",
   "version": "3.7.4"
  },
  "orig_nbformat": 2,
  "kernelspec": {
   "name": "python374jvsc74a57bd0ee27e0fcd0f9f994c67cf12b9ef9e4e2d828bddda10a9bc2bfd248436cfd9d53",
   "display_name": "Python 3.7.4 64-bit ('base': conda)"
  }
 },
 "nbformat": 4,
 "nbformat_minor": 2,
 "cells": [
  {
   "cell_type": "code",
   "execution_count": 26,
   "metadata": {},
   "outputs": [],
   "source": [
    "import sesamutil\n",
    "import pandas as pd"
   ]
  },
  {
   "cell_type": "code",
   "execution_count": 53,
   "metadata": {},
   "outputs": [],
   "source": [
    "listraw_pileutil = sesamutil.getpileutil('SPLICE.LIS')"
   ]
  },
  {
   "cell_type": "code",
   "execution_count": 54,
   "metadata": {},
   "outputs": [],
   "source": [
    "dfpileutil = pd.DataFrame(listraw_pileutil, columns=['lc', 'pile', 'node', 'z', 'sigma', 'node_sect', 'z_sect', 'UR', 'ax_force', 'capacity', 'fos'])\n",
    "dfpileutil = dfpileutil.astype({'lc' : 'int64' , 'pile' : 'int64' , 'node' : 'int64', 'z' : 'float64' , 'sigma' : 'float64' , 'node_sect' : 'int64', 'z_sect' : 'float64', 'UR' : 'float64', 'ax_force' : 'float64', 'capacity' :'float64', 'fos' : 'float64'})"
   ]
  },
  {
   "cell_type": "code",
   "execution_count": 55,
   "metadata": {},
   "outputs": [
    {
     "output_type": "execute_result",
     "data": {
      "text/plain": [
       "lc             int64\n",
       "pile           int64\n",
       "node           int64\n",
       "z            float64\n",
       "sigma        float64\n",
       "node_sect      int64\n",
       "z_sect       float64\n",
       "UR           float64\n",
       "ax_force     float64\n",
       "capacity     float64\n",
       "fos          float64\n",
       "dtype: object"
      ]
     },
     "metadata": {},
     "execution_count": 55
    }
   ],
   "source": [
    "dfpileutil.dtypes"
   ]
  },
  {
   "cell_type": "code",
   "execution_count": 56,
   "metadata": {},
   "outputs": [
    {
     "output_type": "execute_result",
     "data": {
      "text/plain": [
       "   lc  pile  node        z  sigma  node_sect   z_sect     UR  ax_force  \\\n",
       "0   1     1     1  188.524   87.7          1  188.524  0.279   26090.0   \n",
       "1   1     2     1  188.524   52.9          1  188.524  0.168   12380.0   \n",
       "2   1     3     1  188.524   50.8          1  188.524  0.161   12690.0   \n",
       "3   1     4     1  188.524   57.7          1  188.524  0.183   18390.0   \n",
       "4   1     5     1  188.524   67.7          1  188.524  0.215   22760.0   \n",
       "\n",
       "   capacity   fos  \n",
       "0   98100.0  3.76  \n",
       "1   98100.0  7.92  \n",
       "2   98410.0  7.76  \n",
       "3   98100.0  5.33  \n",
       "4   93380.0  4.10  "
      ],
      "text/html": "<div>\n<style scoped>\n    .dataframe tbody tr th:only-of-type {\n        vertical-align: middle;\n    }\n\n    .dataframe tbody tr th {\n        vertical-align: top;\n    }\n\n    .dataframe thead th {\n        text-align: right;\n    }\n</style>\n<table border=\"1\" class=\"dataframe\">\n  <thead>\n    <tr style=\"text-align: right;\">\n      <th></th>\n      <th>lc</th>\n      <th>pile</th>\n      <th>node</th>\n      <th>z</th>\n      <th>sigma</th>\n      <th>node_sect</th>\n      <th>z_sect</th>\n      <th>UR</th>\n      <th>ax_force</th>\n      <th>capacity</th>\n      <th>fos</th>\n    </tr>\n  </thead>\n  <tbody>\n    <tr>\n      <th>0</th>\n      <td>1</td>\n      <td>1</td>\n      <td>1</td>\n      <td>188.524</td>\n      <td>87.7</td>\n      <td>1</td>\n      <td>188.524</td>\n      <td>0.279</td>\n      <td>26090.0</td>\n      <td>98100.0</td>\n      <td>3.76</td>\n    </tr>\n    <tr>\n      <th>1</th>\n      <td>1</td>\n      <td>2</td>\n      <td>1</td>\n      <td>188.524</td>\n      <td>52.9</td>\n      <td>1</td>\n      <td>188.524</td>\n      <td>0.168</td>\n      <td>12380.0</td>\n      <td>98100.0</td>\n      <td>7.92</td>\n    </tr>\n    <tr>\n      <th>2</th>\n      <td>1</td>\n      <td>3</td>\n      <td>1</td>\n      <td>188.524</td>\n      <td>50.8</td>\n      <td>1</td>\n      <td>188.524</td>\n      <td>0.161</td>\n      <td>12690.0</td>\n      <td>98410.0</td>\n      <td>7.76</td>\n    </tr>\n    <tr>\n      <th>3</th>\n      <td>1</td>\n      <td>4</td>\n      <td>1</td>\n      <td>188.524</td>\n      <td>57.7</td>\n      <td>1</td>\n      <td>188.524</td>\n      <td>0.183</td>\n      <td>18390.0</td>\n      <td>98100.0</td>\n      <td>5.33</td>\n    </tr>\n    <tr>\n      <th>4</th>\n      <td>1</td>\n      <td>5</td>\n      <td>1</td>\n      <td>188.524</td>\n      <td>67.7</td>\n      <td>1</td>\n      <td>188.524</td>\n      <td>0.215</td>\n      <td>22760.0</td>\n      <td>93380.0</td>\n      <td>4.10</td>\n    </tr>\n  </tbody>\n</table>\n</div>"
     },
     "metadata": {},
     "execution_count": 56
    }
   ],
   "source": [
    "dfpileutil.head()"
   ]
  },
  {
   "source": [
    "## Method 1 \n",
    "By using transform maxk and feed that back to the original dataframe to subset the matching maximum values"
   ],
   "cell_type": "markdown",
   "metadata": {}
  },
  {
   "cell_type": "code",
   "execution_count": 57,
   "metadata": {},
   "outputs": [
    {
     "output_type": "stream",
     "name": "stdout",
     "text": [
      "       lc  pile  node        z  sigma  node_sect   z_sect     UR  ax_force  \\\n3088  194     1     1  188.524   92.7          1  188.524  0.294   29920.0   \n3153  198     2     1  188.524   53.4          1  188.524  0.170   14200.0   \n2562  161     3     1  188.524   50.8          1  188.524  0.161   12690.0   \n3154  198     3     1  188.524   50.7          1  188.524  0.161   14820.0   \n3042  191     3     1  188.524   50.7          1  188.524  0.161   14850.0   \n2563  161     4     1  188.524   57.7          1  188.524  0.183   18390.0   \n3155  198     4     1  188.524   57.6          1  188.524  0.183   20750.0   \n3043  191     4     1  188.524   57.6          1  188.524  0.183   20860.0   \n3060  192     5     1  188.524   72.5          1  188.524  0.230   27690.0   \n3061  192     6     1  188.524   64.9          1  188.524  0.206   20580.0   \n3062  192     7     1  188.524   66.9          1  188.524  0.212   20230.0   \n3063  192     8     1  188.524   77.7          1  188.524  0.247   26930.0   \n3096  194     9     1  188.524   78.8          1  188.524  0.250   22750.0   \n3097  194    10     1  188.524   73.1          1  188.524  0.232   23410.0   \n3098  194    11     1  188.524   80.5          1  188.524  0.255   31360.0   \n3114  195    11     1  188.524   80.3          1  188.524  0.255   31370.0   \n2571  161    12     1  188.524   66.9          1  188.524  0.212   21640.0   \n2572  161    13     1  188.524   59.1          1  188.524  0.188   15180.0   \n2573  161    14     1  188.524   64.1          1  188.524  0.204   14630.0   \n3134  196    15     1  188.524   77.1          1  188.524  0.245   21750.0   \n2574  161    15     1  188.524   77.2          1  188.524  0.245   20560.0   \n3167  198    16     1  188.524   63.4          1  188.524  0.201   19560.0   \n\n      capacity   fos  \n3088   98100.0  3.28  \n3153   98100.0  6.91  \n2562   98410.0  7.76  \n3154   98410.0  6.64  \n3042   98410.0  6.63  \n2563   98100.0  5.33  \n3155   98100.0  4.73  \n3043   98100.0  4.70  \n3060   93380.0  3.37  \n3061   93690.0  4.55  \n3062   93380.0  4.62  \n3063   93380.0  3.47  \n3096   98100.0  4.31  \n3097   98420.0  4.20  \n3098   98100.0  3.13  \n3114   98100.0  3.13  \n2571   93380.0  4.32  \n2572   93690.0  6.17  \n2573   93380.0  6.38  \n3134   93380.0  4.29  \n2574   93380.0  4.54  \n3167   98100.0  5.01  \n"
     ]
    }
   ],
   "source": [
    "#Only lc > 100\n",
    "dfpileutil = dfpileutil[dfpileutil['lc'] > 100]\n",
    "\n",
    "\n",
    "# Group by the pile number, and find the maximum utilisation\n",
    "maxurlist = dfpileutil[['pile', 'UR']].groupby(by=['pile']).transform(max)\n",
    "dfpileutil_maxur_perpile = dfpileutil[dfpileutil['UR'] == maxurlist['UR']].sort_values(by='pile', ascending=True)\n",
    "print(dfpileutil_maxur_perpile)"
   ]
  },
  {
   "source": [
    "However, as there are more than one with matching max UR values for each pile, filter it again by using maximum ax_force"
   ],
   "cell_type": "markdown",
   "metadata": {}
  },
  {
   "cell_type": "code",
   "execution_count": 60,
   "metadata": {},
   "outputs": [
    {
     "output_type": "stream",
     "name": "stdout",
     "text": [
      "       lc  pile  node        z  sigma  node_sect   z_sect     UR  ax_force  \\\n3088  194     1     1  188.524   92.7          1  188.524  0.294   29920.0   \n3153  198     2     1  188.524   53.4          1  188.524  0.170   14200.0   \n3042  191     3     1  188.524   50.7          1  188.524  0.161   14850.0   \n3043  191     4     1  188.524   57.6          1  188.524  0.183   20860.0   \n3060  192     5     1  188.524   72.5          1  188.524  0.230   27690.0   \n3061  192     6     1  188.524   64.9          1  188.524  0.206   20580.0   \n3062  192     7     1  188.524   66.9          1  188.524  0.212   20230.0   \n3063  192     8     1  188.524   77.7          1  188.524  0.247   26930.0   \n3096  194     9     1  188.524   78.8          1  188.524  0.250   22750.0   \n3097  194    10     1  188.524   73.1          1  188.524  0.232   23410.0   \n3114  195    11     1  188.524   80.3          1  188.524  0.255   31370.0   \n2571  161    12     1  188.524   66.9          1  188.524  0.212   21640.0   \n2572  161    13     1  188.524   59.1          1  188.524  0.188   15180.0   \n2573  161    14     1  188.524   64.1          1  188.524  0.204   14630.0   \n3134  196    15     1  188.524   77.1          1  188.524  0.245   21750.0   \n3167  198    16     1  188.524   63.4          1  188.524  0.201   19560.0   \n\n      capacity   fos  \n3088   98100.0  3.28  \n3153   98100.0  6.91  \n3042   98410.0  6.63  \n3043   98100.0  4.70  \n3060   93380.0  3.37  \n3061   93690.0  4.55  \n3062   93380.0  4.62  \n3063   93380.0  3.47  \n3096   98100.0  4.31  \n3097   98420.0  4.20  \n3114   98100.0  3.13  \n2571   93380.0  4.32  \n2572   93690.0  6.17  \n2573   93380.0  6.38  \n3134   93380.0  4.29  \n3167   98100.0  5.01  \n"
     ]
    }
   ],
   "source": [
    "dfpileutil_maxur_perpile_maxax =  dfpileutil_maxur_perpile.sort_values(by='ax_force', ascending=False).drop_duplicates(subset=['pile'], keep='first')\n",
    "print(dfpileutil_maxur_perpile_maxax.sort_values(by='pile'))"
   ]
  },
  {
   "cell_type": "code",
   "execution_count": null,
   "metadata": {},
   "outputs": [],
   "source": []
  }
 ]
}